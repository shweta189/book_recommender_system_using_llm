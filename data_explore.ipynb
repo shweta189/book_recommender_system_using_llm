{
 "cells": [
  {
   "cell_type": "code",
   "execution_count": 1,
   "metadata": {},
   "outputs": [],
   "source": [
    "import pandas as pd \n",
    "import numpy as np \n",
    "import seaborn as sns \n",
    "import matplotlib.pyplot as plt"
   ]
  },
  {
   "cell_type": "code",
   "execution_count": 2,
   "metadata": {},
   "outputs": [],
   "source": [
    "books = pd.read_csv('books.csv')"
   ]
  },
  {
   "cell_type": "code",
   "execution_count": 3,
   "metadata": {},
   "outputs": [
    {
     "data": {
      "text/html": [
       "<div>\n",
       "<style scoped>\n",
       "    .dataframe tbody tr th:only-of-type {\n",
       "        vertical-align: middle;\n",
       "    }\n",
       "\n",
       "    .dataframe tbody tr th {\n",
       "        vertical-align: top;\n",
       "    }\n",
       "\n",
       "    .dataframe thead th {\n",
       "        text-align: right;\n",
       "    }\n",
       "</style>\n",
       "<table border=\"1\" class=\"dataframe\">\n",
       "  <thead>\n",
       "    <tr style=\"text-align: right;\">\n",
       "      <th></th>\n",
       "      <th>isbn13</th>\n",
       "      <th>isbn10</th>\n",
       "      <th>title</th>\n",
       "      <th>subtitle</th>\n",
       "      <th>authors</th>\n",
       "      <th>categories</th>\n",
       "      <th>thumbnail</th>\n",
       "      <th>description</th>\n",
       "      <th>published_year</th>\n",
       "      <th>average_rating</th>\n",
       "      <th>num_pages</th>\n",
       "      <th>ratings_count</th>\n",
       "    </tr>\n",
       "  </thead>\n",
       "  <tbody>\n",
       "    <tr>\n",
       "      <th>0</th>\n",
       "      <td>9780002005883</td>\n",
       "      <td>0002005883</td>\n",
       "      <td>Gilead</td>\n",
       "      <td>NaN</td>\n",
       "      <td>Marilynne Robinson</td>\n",
       "      <td>Fiction</td>\n",
       "      <td>http://books.google.com/books/content?id=KQZCP...</td>\n",
       "      <td>A NOVEL THAT READERS and critics have been eag...</td>\n",
       "      <td>2004.0</td>\n",
       "      <td>3.85</td>\n",
       "      <td>247.0</td>\n",
       "      <td>361.0</td>\n",
       "    </tr>\n",
       "    <tr>\n",
       "      <th>1</th>\n",
       "      <td>9780002261982</td>\n",
       "      <td>0002261987</td>\n",
       "      <td>Spider's Web</td>\n",
       "      <td>A Novel</td>\n",
       "      <td>Charles Osborne;Agatha Christie</td>\n",
       "      <td>Detective and mystery stories</td>\n",
       "      <td>http://books.google.com/books/content?id=gA5GP...</td>\n",
       "      <td>A new 'Christie for Christmas' -- a full-lengt...</td>\n",
       "      <td>2000.0</td>\n",
       "      <td>3.83</td>\n",
       "      <td>241.0</td>\n",
       "      <td>5164.0</td>\n",
       "    </tr>\n",
       "    <tr>\n",
       "      <th>2</th>\n",
       "      <td>9780006163831</td>\n",
       "      <td>0006163831</td>\n",
       "      <td>The One Tree</td>\n",
       "      <td>NaN</td>\n",
       "      <td>Stephen R. Donaldson</td>\n",
       "      <td>American fiction</td>\n",
       "      <td>http://books.google.com/books/content?id=OmQaw...</td>\n",
       "      <td>Volume Two of Stephen Donaldson's acclaimed se...</td>\n",
       "      <td>1982.0</td>\n",
       "      <td>3.97</td>\n",
       "      <td>479.0</td>\n",
       "      <td>172.0</td>\n",
       "    </tr>\n",
       "    <tr>\n",
       "      <th>3</th>\n",
       "      <td>9780006178736</td>\n",
       "      <td>0006178731</td>\n",
       "      <td>Rage of angels</td>\n",
       "      <td>NaN</td>\n",
       "      <td>Sidney Sheldon</td>\n",
       "      <td>Fiction</td>\n",
       "      <td>http://books.google.com/books/content?id=FKo2T...</td>\n",
       "      <td>A memorable, mesmerizing heroine Jennifer -- b...</td>\n",
       "      <td>1993.0</td>\n",
       "      <td>3.93</td>\n",
       "      <td>512.0</td>\n",
       "      <td>29532.0</td>\n",
       "    </tr>\n",
       "    <tr>\n",
       "      <th>4</th>\n",
       "      <td>9780006280897</td>\n",
       "      <td>0006280897</td>\n",
       "      <td>The Four Loves</td>\n",
       "      <td>NaN</td>\n",
       "      <td>Clive Staples Lewis</td>\n",
       "      <td>Christian life</td>\n",
       "      <td>http://books.google.com/books/content?id=XhQ5X...</td>\n",
       "      <td>Lewis' work on the nature of love divides love...</td>\n",
       "      <td>2002.0</td>\n",
       "      <td>4.15</td>\n",
       "      <td>170.0</td>\n",
       "      <td>33684.0</td>\n",
       "    </tr>\n",
       "  </tbody>\n",
       "</table>\n",
       "</div>"
      ],
      "text/plain": [
       "          isbn13      isbn10           title subtitle  \\\n",
       "0  9780002005883  0002005883          Gilead      NaN   \n",
       "1  9780002261982  0002261987    Spider's Web  A Novel   \n",
       "2  9780006163831  0006163831    The One Tree      NaN   \n",
       "3  9780006178736  0006178731  Rage of angels      NaN   \n",
       "4  9780006280897  0006280897  The Four Loves      NaN   \n",
       "\n",
       "                           authors                     categories  \\\n",
       "0               Marilynne Robinson                        Fiction   \n",
       "1  Charles Osborne;Agatha Christie  Detective and mystery stories   \n",
       "2             Stephen R. Donaldson               American fiction   \n",
       "3                   Sidney Sheldon                        Fiction   \n",
       "4              Clive Staples Lewis                 Christian life   \n",
       "\n",
       "                                           thumbnail  \\\n",
       "0  http://books.google.com/books/content?id=KQZCP...   \n",
       "1  http://books.google.com/books/content?id=gA5GP...   \n",
       "2  http://books.google.com/books/content?id=OmQaw...   \n",
       "3  http://books.google.com/books/content?id=FKo2T...   \n",
       "4  http://books.google.com/books/content?id=XhQ5X...   \n",
       "\n",
       "                                         description  published_year  \\\n",
       "0  A NOVEL THAT READERS and critics have been eag...          2004.0   \n",
       "1  A new 'Christie for Christmas' -- a full-lengt...          2000.0   \n",
       "2  Volume Two of Stephen Donaldson's acclaimed se...          1982.0   \n",
       "3  A memorable, mesmerizing heroine Jennifer -- b...          1993.0   \n",
       "4  Lewis' work on the nature of love divides love...          2002.0   \n",
       "\n",
       "   average_rating  num_pages  ratings_count  \n",
       "0            3.85      247.0          361.0  \n",
       "1            3.83      241.0         5164.0  \n",
       "2            3.97      479.0          172.0  \n",
       "3            3.93      512.0        29532.0  \n",
       "4            4.15      170.0        33684.0  "
      ]
     },
     "execution_count": 3,
     "metadata": {},
     "output_type": "execute_result"
    }
   ],
   "source": [
    "books.head()"
   ]
  },
  {
   "cell_type": "code",
   "execution_count": 4,
   "metadata": {},
   "outputs": [
    {
     "name": "stdout",
     "output_type": "stream",
     "text": [
      "<class 'pandas.core.frame.DataFrame'>\n",
      "RangeIndex: 6810 entries, 0 to 6809\n",
      "Data columns (total 12 columns):\n",
      " #   Column          Non-Null Count  Dtype  \n",
      "---  ------          --------------  -----  \n",
      " 0   isbn13          6810 non-null   int64  \n",
      " 1   isbn10          6810 non-null   object \n",
      " 2   title           6810 non-null   object \n",
      " 3   subtitle        2381 non-null   object \n",
      " 4   authors         6738 non-null   object \n",
      " 5   categories      6711 non-null   object \n",
      " 6   thumbnail       6481 non-null   object \n",
      " 7   description     6548 non-null   object \n",
      " 8   published_year  6804 non-null   float64\n",
      " 9   average_rating  6767 non-null   float64\n",
      " 10  num_pages       6767 non-null   float64\n",
      " 11  ratings_count   6767 non-null   float64\n",
      "dtypes: float64(4), int64(1), object(7)\n",
      "memory usage: 638.6+ KB\n"
     ]
    }
   ],
   "source": [
    "books.info()"
   ]
  },
  {
   "cell_type": "code",
   "execution_count": 5,
   "metadata": {},
   "outputs": [
    {
     "data": {
      "text/plain": [
       "isbn13            0.000000\n",
       "isbn10            0.000000\n",
       "title             0.000000\n",
       "subtitle          0.650367\n",
       "authors           0.010573\n",
       "categories        0.014537\n",
       "thumbnail         0.048311\n",
       "description       0.038473\n",
       "published_year    0.000881\n",
       "average_rating    0.006314\n",
       "num_pages         0.006314\n",
       "ratings_count     0.006314\n",
       "dtype: float64"
      ]
     },
     "execution_count": 5,
     "metadata": {},
     "output_type": "execute_result"
    }
   ],
   "source": [
    "books.isna().sum()/len(books)"
   ]
  },
  {
   "cell_type": "code",
   "execution_count": 6,
   "metadata": {},
   "outputs": [
    {
     "data": {
      "text/plain": [
       "Text(50.58159722222221, 0.5, 'Missing values')"
      ]
     },
     "execution_count": 6,
     "metadata": {},
     "output_type": "execute_result"
    },
    {
     "data": {
      "image/png": "[encoded data removed]",
      "text/plain": [
       "<Figure size 640x480 with 1 Axes>"
      ]
     },
     "metadata": {},
     "output_type": "display_data"
    }
   ],
   "source": [
    "ax = plt.axes()\n",
    "sns.heatmap(books.isna().transpose(),cbar=False,ax=ax)\n",
    "plt.xlabel(\"Columns\")\n",
    "plt.ylabel(\"Missing values\")"
   ]
  },
  {
   "cell_type": "code",
   "execution_count": 7,
   "metadata": {},
   "outputs": [],
   "source": [
    "books['missing_description'] = np.where(books['description'].isna(),1,0)\n",
    "books['age_of_book'] = 2025 - books['published_year']"
   ]
  },
  {
   "cell_type": "code",
   "execution_count": 8,
   "metadata": {},
   "outputs": [
    {
     "data": {
      "image/png": "[encoded data removed]",
      "text/plain": [
       "<Figure size 800x600 with 2 Axes>"
      ]
     },
     "metadata": {},
     "output_type": "display_data"
    }
   ],
   "source": [
    "columns_of_interest = ['num_pages','age_of_book','missing_description','average_rating']\n",
    "correlation_matrix = books[columns_of_interest].corr(method='spearman')\n",
    "plt.figure(figsize=(8, 6))\n",
    "heatmap = sns.heatmap(correlation_matrix,annot=True,fmt=\".2f\", \n",
    "                      cbar_kws={\"label\": \"Spearman correlation\"})\n",
    "\n",
    "heatmap.set_title(\"Correlation Heatmap\")\n",
    "plt.show()\n"
   ]
  },
  {
   "cell_type": "code",
   "execution_count": 9,
   "metadata": {},
   "outputs": [],
   "source": [
    "book_missing = books[~(books[\"description\"].isna()) &\n",
    "      ~(books[\"num_pages\"].isna()) &\n",
    "      ~(books[\"average_rating\"].isna()) &\n",
    "      ~(books[\"published_year\"].isna())\n",
    "]"
   ]
  },
  {
   "cell_type": "code",
   "execution_count": 10,
   "metadata": {},
   "outputs": [
    {
     "data": {
      "text/html": [
       "<div>\n",
       "<style scoped>\n",
       "    .dataframe tbody tr th:only-of-type {\n",
       "        vertical-align: middle;\n",
       "    }\n",
       "\n",
       "    .dataframe tbody tr th {\n",
       "        vertical-align: top;\n",
       "    }\n",
       "\n",
       "    .dataframe thead th {\n",
       "        text-align: right;\n",
       "    }\n",
       "</style>\n",
       "<table border=\"1\" class=\"dataframe\">\n",
       "  <thead>\n",
       "    <tr style=\"text-align: right;\">\n",
       "      <th></th>\n",
       "      <th>categories</th>\n",
       "      <th>count</th>\n",
       "    </tr>\n",
       "  </thead>\n",
       "  <tbody>\n",
       "    <tr>\n",
       "      <th>0</th>\n",
       "      <td>Fiction</td>\n",
       "      <td>2523</td>\n",
       "    </tr>\n",
       "    <tr>\n",
       "      <th>1</th>\n",
       "      <td>Juvenile Fiction</td>\n",
       "      <td>534</td>\n",
       "    </tr>\n",
       "    <tr>\n",
       "      <th>2</th>\n",
       "      <td>Biography &amp; Autobiography</td>\n",
       "      <td>391</td>\n",
       "    </tr>\n",
       "    <tr>\n",
       "      <th>3</th>\n",
       "      <td>History</td>\n",
       "      <td>258</td>\n",
       "    </tr>\n",
       "    <tr>\n",
       "      <th>4</th>\n",
       "      <td>Literary Criticism</td>\n",
       "      <td>164</td>\n",
       "    </tr>\n",
       "    <tr>\n",
       "      <th>...</th>\n",
       "      <td>...</td>\n",
       "      <td>...</td>\n",
       "    </tr>\n",
       "    <tr>\n",
       "      <th>280</th>\n",
       "      <td>Butlers</td>\n",
       "      <td>1</td>\n",
       "    </tr>\n",
       "    <tr>\n",
       "      <th>279</th>\n",
       "      <td>Gardens</td>\n",
       "      <td>1</td>\n",
       "    </tr>\n",
       "    <tr>\n",
       "      <th>278</th>\n",
       "      <td>Assassins</td>\n",
       "      <td>1</td>\n",
       "    </tr>\n",
       "    <tr>\n",
       "      <th>277</th>\n",
       "      <td>Married people</td>\n",
       "      <td>1</td>\n",
       "    </tr>\n",
       "    <tr>\n",
       "      <th>530</th>\n",
       "      <td>Indic fiction (English)</td>\n",
       "      <td>1</td>\n",
       "    </tr>\n",
       "  </tbody>\n",
       "</table>\n",
       "<p>531 rows × 2 columns</p>\n",
       "</div>"
      ],
      "text/plain": [
       "                    categories  count\n",
       "0                      Fiction   2523\n",
       "1             Juvenile Fiction    534\n",
       "2    Biography & Autobiography    391\n",
       "3                      History    258\n",
       "4           Literary Criticism    164\n",
       "..                         ...    ...\n",
       "280                    Butlers      1\n",
       "279                    Gardens      1\n",
       "278                  Assassins      1\n",
       "277             Married people      1\n",
       "530    Indic fiction (English)      1\n",
       "\n",
       "[531 rows x 2 columns]"
      ]
     },
     "execution_count": 10,
     "metadata": {},
     "output_type": "execute_result"
    }
   ],
   "source": [
    "book_missing['categories'].value_counts().reset_index().sort_values(by='count',ascending=False)"
   ]
  },
  {
   "cell_type": "code",
   "execution_count": 11,
   "metadata": {},
   "outputs": [
    {
     "name": "stderr",
     "output_type": "stream",
     "text": [
      "C:\\Users\\mamta\\AppData\\Local\\Temp\\ipykernel_22580\\2882849729.py:1: SettingWithCopyWarning: \n",
      "A value is trying to be set on a copy of a slice from a DataFrame.\n",
      "Try using .loc[row_indexer,col_indexer] = value instead\n",
      "\n",
      "See the caveats in the documentation: https://pandas.pydata.org/pandas-docs/stable/user_guide/indexing.html#returning-a-view-versus-a-copy\n",
      "  book_missing['words_in_description'] = book_missing['description'].str.split().str.len()\n"
     ]
    }
   ],
   "source": [
    "book_missing['words_in_description'] = book_missing['description'].str.split().str.len()"
   ]
  },
  {
   "cell_type": "code",
   "execution_count": 12,
   "metadata": {},
   "outputs": [
    {
     "data": {
      "text/plain": [
       "6                                           Donation.\n",
       "11                                     Fantasy-roman.\n",
       "748              Includes bibliographical references.\n",
       "770                             Bound For Oregon (PB)\n",
       "775                                No Marketing Blurb\n",
       "812                                No Marketing Blurb\n",
       "857                          First published in 1813.\n",
       "944                         Edited by Maurice Hindle.\n",
       "953                        DEFOE/ROBINSON CRUSOE (BC)\n",
       "954                             Edited by John Carey.\n",
       "962                         ALLEN/GETTING THINGS DONE\n",
       "1054                            GILBERT/EAT PRAY LOVE\n",
       "1056    \"Graham Greene centennial, 1904-2004\"--Cover.\n",
       "1060                   STEINBECK/GRAPES OF WRATH (BC)\n",
       "1346                                   Fantasy-roman.\n",
       "1546                                      Winter 2003\n",
       "1610                                      Winter 1999\n",
       "1813                             National bestseller.\n",
       "1981                                         Romance.\n",
       "2089                               Oprah's Book Club.\n",
       "2372                       KANDEL/IN SEARCH OF MEMORY\n",
       "2946                           FICTION-ROMANCE/GOTHIC\n",
       "3064                               No Marketing Blurb\n",
       "3364                                   Fantasy-roman.\n",
       "3425                               A novel of Israel.\n",
       "3435                                 Science fiction.\n",
       "3611                                Cast ages: adult.\n",
       "3641                           A Classic Robot novel.\n",
       "3645                           Science fiction-roman.\n",
       "3857         Comprehensive Teacher's Guide available.\n",
       "3959                                   Ketubot Part I\n",
       "4262                             Issued in container.\n",
       "4898                                   Fantasy roman.\n",
       "5015                                             See:\n",
       "5090                                                ?\n",
       "5135                              (Autobiographical).\n",
       "5161                          A classic rediscovered.\n",
       "5243                                                .\n",
       "5245                                                .\n",
       "5332                               No Marketing Blurb\n",
       "5493                         Motion, Sound, and Heat.\n",
       "5505                                    Eventyrroman.\n",
       "5599                                             #48.\n",
       "5652                 see www.BloodMoonProductions.com\n",
       "6066                               No Marketing Blurb\n",
       "6144                             Dominion 3rd Edition\n",
       "6180                                  Revised edition\n",
       "6368                                        undefined\n",
       "6402                           Meaning of life novel.\n",
       "6499                                           Roman.\n",
       "6557                                 Kriminalromaner.\n",
       "6571                   Translated by Anthony Burgess.\n",
       "6695                               No Marketing Blurb\n",
       "6721                                          Horror.\n",
       "6794                             源氏物語54帖、「宮田切り絵」の真骨頂。\n",
       "Name: description, dtype: object"
      ]
     },
     "execution_count": 12,
     "metadata": {},
     "output_type": "execute_result"
    }
   ],
   "source": [
    "book_missing.loc[book_missing[\"words_in_description\"].between(1, 4), \"description\"]"
   ]
  },
  {
   "cell_type": "code",
   "execution_count": 13,
   "metadata": {},
   "outputs": [
    {
     "data": {
      "text/plain": [
       "2       Volume Two of Stephen Donaldson's acclaimed se...\n",
       "38      Koko is Peter Straub's foray into the psycholo...\n",
       "70      A matter of life and death - and the Throne of...\n",
       "77                         Nonsense rhyming story. 4 yrs+\n",
       "84      A study guide for the novel There's a Boy in t...\n",
       "                              ...                        \n",
       "6715    The first comprehensive guide to addressing Na...\n",
       "6726       Presents two complete novels from Henry James.\n",
       "6757                          Audio Book- unabriged on CD\n",
       "6776    Raymond Chandler meets The Exorcist. Classic n...\n",
       "6795    Book Of Five Rings is a Kodansha International...\n",
       "Name: description, Length: 308, dtype: object"
      ]
     },
     "execution_count": 13,
     "metadata": {},
     "output_type": "execute_result"
    }
   ],
   "source": [
    "book_missing.loc[book_missing[\"words_in_description\"].between(5, 14), \"description\"]"
   ]
  },
  {
   "cell_type": "code",
   "execution_count": 14,
   "metadata": {},
   "outputs": [
    {
     "data": {
      "text/plain": [
       "10      One of Sidney Sheldon's most popular and bests...\n",
       "32      Tells the story of three generations of Chines...\n",
       "36      A magical and fantastic collection of early st...\n",
       "57      A young drifter finds more than he bargained f...\n",
       "68      A new 'The Doors of Perception' for the 21st c...\n",
       "                              ...                        \n",
       "6767    Everything from the fingerprints of the gods t...\n",
       "6782    Displays one of America's leading physicist's ...\n",
       "6783    Basics Illustration 01: Thinking Visually expl...\n",
       "6789    Provides an introduction to the American artis...\n",
       "6809    This is a jubilant and rewarding collection of...\n",
       "Name: description, Length: 947, dtype: object"
      ]
     },
     "execution_count": 14,
     "metadata": {},
     "output_type": "execute_result"
    }
   ],
   "source": [
    "book_missing.loc[book_missing[\"words_in_description\"].between(15, 24), \"description\"]"
   ]
  },
  {
   "cell_type": "code",
   "execution_count": 15,
   "metadata": {},
   "outputs": [
    {
     "data": {
      "text/plain": [
       "9       Kate Blackwell is an enigma and one of the mos...\n",
       "14      Available in the U.S. for the first time, this...\n",
       "20      It is 1937, and Charles Ashworth, a Canon to t...\n",
       "21      Reissue of the author's most famous and well-l...\n",
       "46      No one believes a little girl when she insists...\n",
       "                              ...                        \n",
       "6760    Joel, an English teacher, has never really lik...\n",
       "6766    Discusses the historical and intellectual back...\n",
       "6775    Presents nearly one thousand recipes--from app...\n",
       "6779    Edited by the creator and executive producer o...\n",
       "6799    This book is the story of a young girl obsesse...\n",
       "Name: description, Length: 1229, dtype: object"
      ]
     },
     "execution_count": 15,
     "metadata": {},
     "output_type": "execute_result"
    }
   ],
   "source": [
    "book_missing.loc[book_missing[\"words_in_description\"].between(25, 34), \"description\"]"
   ]
  },
  {
   "cell_type": "code",
   "execution_count": 16,
   "metadata": {},
   "outputs": [],
   "source": [
    "book_missing_25_words = book_missing[book_missing[\"words_in_description\"] >= 25]"
   ]
  },
  {
   "cell_type": "code",
   "execution_count": 17,
   "metadata": {},
   "outputs": [
    {
     "data": {
      "text/html": [
       "<div>\n",
       "<style scoped>\n",
       "    .dataframe tbody tr th:only-of-type {\n",
       "        vertical-align: middle;\n",
       "    }\n",
       "\n",
       "    .dataframe tbody tr th {\n",
       "        vertical-align: top;\n",
       "    }\n",
       "\n",
       "    .dataframe thead th {\n",
       "        text-align: right;\n",
       "    }\n",
       "</style>\n",
       "<table border=\"1\" class=\"dataframe\">\n",
       "  <thead>\n",
       "    <tr style=\"text-align: right;\">\n",
       "      <th></th>\n",
       "      <th>isbn13</th>\n",
       "      <th>isbn10</th>\n",
       "      <th>title</th>\n",
       "      <th>subtitle</th>\n",
       "      <th>authors</th>\n",
       "      <th>categories</th>\n",
       "      <th>thumbnail</th>\n",
       "      <th>description</th>\n",
       "      <th>published_year</th>\n",
       "      <th>average_rating</th>\n",
       "      <th>num_pages</th>\n",
       "      <th>ratings_count</th>\n",
       "      <th>missing_description</th>\n",
       "      <th>age_of_book</th>\n",
       "      <th>words_in_description</th>\n",
       "    </tr>\n",
       "  </thead>\n",
       "  <tbody>\n",
       "    <tr>\n",
       "      <th>0</th>\n",
       "      <td>9780002005883</td>\n",
       "      <td>0002005883</td>\n",
       "      <td>Gilead</td>\n",
       "      <td>NaN</td>\n",
       "      <td>Marilynne Robinson</td>\n",
       "      <td>Fiction</td>\n",
       "      <td>http://books.google.com/books/content?id=KQZCP...</td>\n",
       "      <td>A NOVEL THAT READERS and critics have been eag...</td>\n",
       "      <td>2004.0</td>\n",
       "      <td>3.85</td>\n",
       "      <td>247.0</td>\n",
       "      <td>361.0</td>\n",
       "      <td>0</td>\n",
       "      <td>21.0</td>\n",
       "      <td>199</td>\n",
       "    </tr>\n",
       "    <tr>\n",
       "      <th>1</th>\n",
       "      <td>9780002261982</td>\n",
       "      <td>0002261987</td>\n",
       "      <td>Spider's Web</td>\n",
       "      <td>A Novel</td>\n",
       "      <td>Charles Osborne;Agatha Christie</td>\n",
       "      <td>Detective and mystery stories</td>\n",
       "      <td>http://books.google.com/books/content?id=gA5GP...</td>\n",
       "      <td>A new 'Christie for Christmas' -- a full-lengt...</td>\n",
       "      <td>2000.0</td>\n",
       "      <td>3.83</td>\n",
       "      <td>241.0</td>\n",
       "      <td>5164.0</td>\n",
       "      <td>0</td>\n",
       "      <td>25.0</td>\n",
       "      <td>205</td>\n",
       "    </tr>\n",
       "    <tr>\n",
       "      <th>3</th>\n",
       "      <td>9780006178736</td>\n",
       "      <td>0006178731</td>\n",
       "      <td>Rage of angels</td>\n",
       "      <td>NaN</td>\n",
       "      <td>Sidney Sheldon</td>\n",
       "      <td>Fiction</td>\n",
       "      <td>http://books.google.com/books/content?id=FKo2T...</td>\n",
       "      <td>A memorable, mesmerizing heroine Jennifer -- b...</td>\n",
       "      <td>1993.0</td>\n",
       "      <td>3.93</td>\n",
       "      <td>512.0</td>\n",
       "      <td>29532.0</td>\n",
       "      <td>0</td>\n",
       "      <td>32.0</td>\n",
       "      <td>57</td>\n",
       "    </tr>\n",
       "    <tr>\n",
       "      <th>4</th>\n",
       "      <td>9780006280897</td>\n",
       "      <td>0006280897</td>\n",
       "      <td>The Four Loves</td>\n",
       "      <td>NaN</td>\n",
       "      <td>Clive Staples Lewis</td>\n",
       "      <td>Christian life</td>\n",
       "      <td>http://books.google.com/books/content?id=XhQ5X...</td>\n",
       "      <td>Lewis' work on the nature of love divides love...</td>\n",
       "      <td>2002.0</td>\n",
       "      <td>4.15</td>\n",
       "      <td>170.0</td>\n",
       "      <td>33684.0</td>\n",
       "      <td>0</td>\n",
       "      <td>23.0</td>\n",
       "      <td>45</td>\n",
       "    </tr>\n",
       "    <tr>\n",
       "      <th>5</th>\n",
       "      <td>9780006280934</td>\n",
       "      <td>0006280935</td>\n",
       "      <td>The Problem of Pain</td>\n",
       "      <td>NaN</td>\n",
       "      <td>Clive Staples Lewis</td>\n",
       "      <td>Christian life</td>\n",
       "      <td>http://books.google.com/books/content?id=Kk-uV...</td>\n",
       "      <td>\"In The Problem of Pain, C.S. Lewis, one of th...</td>\n",
       "      <td>2002.0</td>\n",
       "      <td>4.09</td>\n",
       "      <td>176.0</td>\n",
       "      <td>37569.0</td>\n",
       "      <td>0</td>\n",
       "      <td>23.0</td>\n",
       "      <td>75</td>\n",
       "    </tr>\n",
       "    <tr>\n",
       "      <th>...</th>\n",
       "      <td>...</td>\n",
       "      <td>...</td>\n",
       "      <td>...</td>\n",
       "      <td>...</td>\n",
       "      <td>...</td>\n",
       "      <td>...</td>\n",
       "      <td>...</td>\n",
       "      <td>...</td>\n",
       "      <td>...</td>\n",
       "      <td>...</td>\n",
       "      <td>...</td>\n",
       "      <td>...</td>\n",
       "      <td>...</td>\n",
       "      <td>...</td>\n",
       "      <td>...</td>\n",
       "    </tr>\n",
       "    <tr>\n",
       "      <th>6802</th>\n",
       "      <td>9788172235222</td>\n",
       "      <td>8172235224</td>\n",
       "      <td>Mistaken Identity</td>\n",
       "      <td>NaN</td>\n",
       "      <td>Nayantara Sahgal</td>\n",
       "      <td>Indic fiction (English)</td>\n",
       "      <td>http://books.google.com/books/content?id=q-tKP...</td>\n",
       "      <td>On A Train Journey Home To North India After L...</td>\n",
       "      <td>2003.0</td>\n",
       "      <td>2.93</td>\n",
       "      <td>324.0</td>\n",
       "      <td>0.0</td>\n",
       "      <td>0</td>\n",
       "      <td>22.0</td>\n",
       "      <td>288</td>\n",
       "    </tr>\n",
       "    <tr>\n",
       "      <th>6803</th>\n",
       "      <td>9788173031014</td>\n",
       "      <td>8173031010</td>\n",
       "      <td>Journey to the East</td>\n",
       "      <td>NaN</td>\n",
       "      <td>Hermann Hesse</td>\n",
       "      <td>Adventure stories</td>\n",
       "      <td>http://books.google.com/books/content?id=rq6JP...</td>\n",
       "      <td>This book tells the tale of a man who goes on ...</td>\n",
       "      <td>2002.0</td>\n",
       "      <td>3.70</td>\n",
       "      <td>175.0</td>\n",
       "      <td>24.0</td>\n",
       "      <td>0</td>\n",
       "      <td>23.0</td>\n",
       "      <td>63</td>\n",
       "    </tr>\n",
       "    <tr>\n",
       "      <th>6804</th>\n",
       "      <td>9788179921623</td>\n",
       "      <td>817992162X</td>\n",
       "      <td>The Monk Who Sold His Ferrari: A Fable About F...</td>\n",
       "      <td>NaN</td>\n",
       "      <td>Robin Sharma</td>\n",
       "      <td>Health &amp; Fitness</td>\n",
       "      <td>http://books.google.com/books/content?id=c_7mf...</td>\n",
       "      <td>Wisdom to Create a Life of Passion, Purpose, a...</td>\n",
       "      <td>2003.0</td>\n",
       "      <td>3.82</td>\n",
       "      <td>198.0</td>\n",
       "      <td>1568.0</td>\n",
       "      <td>0</td>\n",
       "      <td>22.0</td>\n",
       "      <td>117</td>\n",
       "    </tr>\n",
       "    <tr>\n",
       "      <th>6805</th>\n",
       "      <td>9788185300535</td>\n",
       "      <td>8185300534</td>\n",
       "      <td>I Am that</td>\n",
       "      <td>Talks with Sri Nisargadatta Maharaj</td>\n",
       "      <td>Sri Nisargadatta Maharaj;Sudhakar S. Dikshit</td>\n",
       "      <td>Philosophy</td>\n",
       "      <td>http://books.google.com/books/content?id=Fv_JP...</td>\n",
       "      <td>This collection of the timeless teachings of o...</td>\n",
       "      <td>1999.0</td>\n",
       "      <td>4.51</td>\n",
       "      <td>531.0</td>\n",
       "      <td>104.0</td>\n",
       "      <td>0</td>\n",
       "      <td>26.0</td>\n",
       "      <td>174</td>\n",
       "    </tr>\n",
       "    <tr>\n",
       "      <th>6808</th>\n",
       "      <td>9789027712059</td>\n",
       "      <td>9027712050</td>\n",
       "      <td>The Berlin Phenomenology</td>\n",
       "      <td>NaN</td>\n",
       "      <td>Georg Wilhelm Friedrich Hegel</td>\n",
       "      <td>History</td>\n",
       "      <td>http://books.google.com/books/content?id=Vy7Sk...</td>\n",
       "      <td>Since the three volume edition ofHegel's Philo...</td>\n",
       "      <td>1981.0</td>\n",
       "      <td>0.00</td>\n",
       "      <td>210.0</td>\n",
       "      <td>0.0</td>\n",
       "      <td>0</td>\n",
       "      <td>44.0</td>\n",
       "      <td>245</td>\n",
       "    </tr>\n",
       "  </tbody>\n",
       "</table>\n",
       "<p>5197 rows × 15 columns</p>\n",
       "</div>"
      ],
      "text/plain": [
       "             isbn13      isbn10  \\\n",
       "0     9780002005883  0002005883   \n",
       "1     9780002261982  0002261987   \n",
       "3     9780006178736  0006178731   \n",
       "4     9780006280897  0006280897   \n",
       "5     9780006280934  0006280935   \n",
       "...             ...         ...   \n",
       "6802  9788172235222  8172235224   \n",
       "6803  9788173031014  8173031010   \n",
       "6804  9788179921623  817992162X   \n",
       "6805  9788185300535  8185300534   \n",
       "6808  9789027712059  9027712050   \n",
       "\n",
       "                                                  title  \\\n",
       "0                                                Gilead   \n",
       "1                                          Spider's Web   \n",
       "3                                        Rage of angels   \n",
       "4                                        The Four Loves   \n",
       "5                                   The Problem of Pain   \n",
       "...                                                 ...   \n",
       "6802                                  Mistaken Identity   \n",
       "6803                                Journey to the East   \n",
       "6804  The Monk Who Sold His Ferrari: A Fable About F...   \n",
       "6805                                          I Am that   \n",
       "6808                           The Berlin Phenomenology   \n",
       "\n",
       "                                 subtitle  \\\n",
       "0                                     NaN   \n",
       "1                                 A Novel   \n",
       "3                                     NaN   \n",
       "4                                     NaN   \n",
       "5                                     NaN   \n",
       "...                                   ...   \n",
       "6802                                  NaN   \n",
       "6803                                  NaN   \n",
       "6804                                  NaN   \n",
       "6805  Talks with Sri Nisargadatta Maharaj   \n",
       "6808                                  NaN   \n",
       "\n",
       "                                           authors  \\\n",
       "0                               Marilynne Robinson   \n",
       "1                  Charles Osborne;Agatha Christie   \n",
       "3                                   Sidney Sheldon   \n",
       "4                              Clive Staples Lewis   \n",
       "5                              Clive Staples Lewis   \n",
       "...                                            ...   \n",
       "6802                              Nayantara Sahgal   \n",
       "6803                                 Hermann Hesse   \n",
       "6804                                  Robin Sharma   \n",
       "6805  Sri Nisargadatta Maharaj;Sudhakar S. Dikshit   \n",
       "6808                 Georg Wilhelm Friedrich Hegel   \n",
       "\n",
       "                         categories  \\\n",
       "0                           Fiction   \n",
       "1     Detective and mystery stories   \n",
       "3                           Fiction   \n",
       "4                    Christian life   \n",
       "5                    Christian life   \n",
       "...                             ...   \n",
       "6802        Indic fiction (English)   \n",
       "6803              Adventure stories   \n",
       "6804               Health & Fitness   \n",
       "6805                     Philosophy   \n",
       "6808                        History   \n",
       "\n",
       "                                              thumbnail  \\\n",
       "0     http://books.google.com/books/content?id=KQZCP...   \n",
       "1     http://books.google.com/books/content?id=gA5GP...   \n",
       "3     http://books.google.com/books/content?id=FKo2T...   \n",
       "4     http://books.google.com/books/content?id=XhQ5X...   \n",
       "5     http://books.google.com/books/content?id=Kk-uV...   \n",
       "...                                                 ...   \n",
       "6802  http://books.google.com/books/content?id=q-tKP...   \n",
       "6803  http://books.google.com/books/content?id=rq6JP...   \n",
       "6804  http://books.google.com/books/content?id=c_7mf...   \n",
       "6805  http://books.google.com/books/content?id=Fv_JP...   \n",
       "6808  http://books.google.com/books/content?id=Vy7Sk...   \n",
       "\n",
       "                                            description  published_year  \\\n",
       "0     A NOVEL THAT READERS and critics have been eag...          2004.0   \n",
       "1     A new 'Christie for Christmas' -- a full-lengt...          2000.0   \n",
       "3     A memorable, mesmerizing heroine Jennifer -- b...          1993.0   \n",
       "4     Lewis' work on the nature of love divides love...          2002.0   \n",
       "5     \"In The Problem of Pain, C.S. Lewis, one of th...          2002.0   \n",
       "...                                                 ...             ...   \n",
       "6802  On A Train Journey Home To North India After L...          2003.0   \n",
       "6803  This book tells the tale of a man who goes on ...          2002.0   \n",
       "6804  Wisdom to Create a Life of Passion, Purpose, a...          2003.0   \n",
       "6805  This collection of the timeless teachings of o...          1999.0   \n",
       "6808  Since the three volume edition ofHegel's Philo...          1981.0   \n",
       "\n",
       "      average_rating  num_pages  ratings_count  missing_description  \\\n",
       "0               3.85      247.0          361.0                    0   \n",
       "1               3.83      241.0         5164.0                    0   \n",
       "3               3.93      512.0        29532.0                    0   \n",
       "4               4.15      170.0        33684.0                    0   \n",
       "5               4.09      176.0        37569.0                    0   \n",
       "...              ...        ...            ...                  ...   \n",
       "6802            2.93      324.0            0.0                    0   \n",
       "6803            3.70      175.0           24.0                    0   \n",
       "6804            3.82      198.0         1568.0                    0   \n",
       "6805            4.51      531.0          104.0                    0   \n",
       "6808            0.00      210.0            0.0                    0   \n",
       "\n",
       "      age_of_book  words_in_description  \n",
       "0            21.0                   199  \n",
       "1            25.0                   205  \n",
       "3            32.0                    57  \n",
       "4            23.0                    45  \n",
       "5            23.0                    75  \n",
       "...           ...                   ...  \n",
       "6802         22.0                   288  \n",
       "6803         23.0                    63  \n",
       "6804         22.0                   117  \n",
       "6805         26.0                   174  \n",
       "6808         44.0                   245  \n",
       "\n",
       "[5197 rows x 15 columns]"
      ]
     },
     "execution_count": 17,
     "metadata": {},
     "output_type": "execute_result"
    }
   ],
   "source": [
    "book_missing_25_words"
   ]
  },
  {
   "cell_type": "code",
   "execution_count": 18,
   "metadata": {},
   "outputs": [
    {
     "name": "stderr",
     "output_type": "stream",
     "text": [
      "C:\\Users\\mamta\\AppData\\Local\\Temp\\ipykernel_22580\\1601903211.py:1: SettingWithCopyWarning: \n",
      "A value is trying to be set on a copy of a slice from a DataFrame.\n",
      "Try using .loc[row_indexer,col_indexer] = value instead\n",
      "\n",
      "See the caveats in the documentation: https://pandas.pydata.org/pandas-docs/stable/user_guide/indexing.html#returning-a-view-versus-a-copy\n",
      "  book_missing_25_words['title_and_subtitle'] = (np.where(book_missing_25_words['subtitle'].isna(),book_missing_25_words['title'],book_missing_25_words[['title','subtitle']].astype(str).agg(\": \".join, axis=1)))\n"
     ]
    }
   ],
   "source": [
    "book_missing_25_words['title_and_subtitle'] = (np.where(book_missing_25_words['subtitle'].isna(),book_missing_25_words['title'],book_missing_25_words[['title','subtitle']].astype(str).agg(\": \".join, axis=1)))"
   ]
  },
  {
   "cell_type": "code",
   "execution_count": 19,
   "metadata": {},
   "outputs": [
    {
     "data": {
      "text/plain": [
       "0                                                  Gilead\n",
       "1                                   Spider's Web: A Novel\n",
       "3                                          Rage of angels\n",
       "4                                          The Four Loves\n",
       "5                                     The Problem of Pain\n",
       "                              ...                        \n",
       "6802                                    Mistaken Identity\n",
       "6803                                  Journey to the East\n",
       "6804    The Monk Who Sold His Ferrari: A Fable About F...\n",
       "6805       I Am that: Talks with Sri Nisargadatta Maharaj\n",
       "6808                             The Berlin Phenomenology\n",
       "Name: title_and_subtitle, Length: 5197, dtype: object"
      ]
     },
     "execution_count": 19,
     "metadata": {},
     "output_type": "execute_result"
    }
   ],
   "source": [
    "book_missing_25_words['title_and_subtitle']"
   ]
  },
  {
   "cell_type": "code",
   "execution_count": 20,
   "metadata": {},
   "outputs": [
    {
     "name": "stderr",
     "output_type": "stream",
     "text": [
      "C:\\Users\\mamta\\AppData\\Local\\Temp\\ipykernel_22580\\3457637377.py:1: SettingWithCopyWarning: \n",
      "A value is trying to be set on a copy of a slice from a DataFrame.\n",
      "Try using .loc[row_indexer,col_indexer] = value instead\n",
      "\n",
      "See the caveats in the documentation: https://pandas.pydata.org/pandas-docs/stable/user_guide/indexing.html#returning-a-view-versus-a-copy\n",
      "  book_missing_25_words['tagged_description'] = book_missing_25_words[['isbn13','description']].astype(str).agg(\" \".join,axis=1)\n"
     ]
    }
   ],
   "source": [
    "book_missing_25_words['tagged_description'] = book_missing_25_words[['isbn13','description']].astype(str).agg(\" \".join,axis=1)"
   ]
  },
  {
   "cell_type": "code",
   "execution_count": 21,
   "metadata": {},
   "outputs": [
    {
     "data": {
      "text/plain": [
       "0       9780002005883 A NOVEL THAT READERS and critics...\n",
       "1       9780002261982 A new 'Christie for Christmas' -...\n",
       "3       9780006178736 A memorable, mesmerizing heroine...\n",
       "4       9780006280897 Lewis' work on the nature of lov...\n",
       "5       9780006280934 \"In The Problem of Pain, C.S. Le...\n",
       "                              ...                        \n",
       "6802    9788172235222 On A Train Journey Home To North...\n",
       "6803    9788173031014 This book tells the tale of a ma...\n",
       "6804    9788179921623 Wisdom to Create a Life of Passi...\n",
       "6805    9788185300535 This collection of the timeless ...\n",
       "6808    9789027712059 Since the three volume edition o...\n",
       "Name: tagged_description, Length: 5197, dtype: object"
      ]
     },
     "execution_count": 21,
     "metadata": {},
     "output_type": "execute_result"
    }
   ],
   "source": [
    "book_missing_25_words['tagged_description']"
   ]
  },
  {
   "cell_type": "code",
   "execution_count": 22,
   "metadata": {},
   "outputs": [],
   "source": [
    "book_missing_25_words = book_missing_25_words.drop(['subtitle','missing_description','age_of_book','words_in_description'],axis=1)"
   ]
  },
  {
   "cell_type": "code",
   "execution_count": 23,
   "metadata": {},
   "outputs": [],
   "source": [
    "book_missing_25_words.to_csv(\"books_cleaned.csv\",index=False)"
   ]
  },
  {
   "cell_type": "code",
   "execution_count": null,
   "metadata": {},
   "outputs": [],
   "source": []
  }
 ],
 "metadata": {
  "kernelspec": {
   "display_name": "venv",
   "language": "python",
   "name": "python3"
  },
  "language_info": {
   "codemirror_mode": {
    "name": "ipython",
    "version": 3
   },
   "file_extension": ".py",
   "mimetype": "text/x-python",
   "name": "python",
   "nbconvert_exporter": "python",
   "pygments_lexer": "ipython3",
   "version": "3.10.0"
  }
 },
 "nbformat": 4,
 "nbformat_minor": 2
}
